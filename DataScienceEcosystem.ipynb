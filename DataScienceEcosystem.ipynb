{
 "cells": [
  {
   "cell_type": "markdown",
   "id": "9ef5ec58",
   "metadata": {},
   "source": [
    "# Data Science Tools and Ecosystem"
   ]
  },
  {
   "cell_type": "markdown",
   "id": "9d86be0e",
   "metadata": {},
   "source": [
    "# Data Science Tools and Ecosystem Overview\n",
    "\n",
    "In this notebook, Data Science Tools and Ecosystem are summarized."
   ]
  },
  {
   "cell_type": "markdown",
   "id": "3ab4b9b9",
   "metadata": {},
   "source": [
    "**Objectives:**\n",
    "\n",
    "- Understand popular languages used in Data Science.\n",
    "- Explore commonly used libraries for data manipulation and analysis.\n",
    "- Learn to evaluate arithmetic expressions in Python.\n",
    "- Perform basic operations, such as multiplication and addition, on numerical values.\n",
    "- Convert minutes to hours using simple arithmetic operations."
   ]
  },
  {
   "cell_type": "markdown",
   "id": "bb82587b",
   "metadata": {},
   "source": [
    "# Popular Data Science Languages\n",
    "\n",
    "Some of the popular languages that Data Scientists use are:\n",
    "\n",
    "1. **Python:** \n",
    "\n",
    "2. **R:** \n",
    "\n",
    "3. **SQL (Structured Query Language):** "
   ]
  },
  {
   "cell_type": "markdown",
   "id": "9670e3e8",
   "metadata": {},
   "source": [
    "# Commonly Used Data Science Libraries\n",
    "\n",
    "Some of the commonly used libraries by Data Scientists include:\n",
    "\n",
    "1. **NumPy:** \n",
    "\n",
    "2. **Pandas:** \n",
    "\n",
    "3. **Scikit-Learn:** \n",
    "\n",
    "4. **Matplotlib:** \n",
    "\n",
    "5. **TensorFlow and PyTorch:** "
   ]
  },
  {
   "cell_type": "markdown",
   "id": "fe6471cf",
   "metadata": {},
   "source": [
    "# Some of the commonly used libraries used by Data Scientists include:\n",
    "\n",
    "1. **NumPy:** A fundamental package for scientific computing with support for large, multi-dimensional arrays and matrices, along with mathematical functions.\n",
    "\n",
    "2. **Pandas:** An essential data manipulation library that provides data structures like DataFrame, enabling efficient data analysis and manipulation.\n",
    "\n",
    "3. **Scikit-learn:** A machine learning library that offers simple and efficient tools for data analysis and modeling, including various algorithms for classification, regression, clustering, and more.\n",
    "\n",
    "4. **Matplotlib:** A versatile plotting library for creating static, animated, and interactive visualizations in Python.\n",
    "\n",
    "5. **Seaborn:** Built on top of Matplotlib, Seaborn provides a high-level interface for drawing attractive and informative statistical graphics.\n",
    "\n",
    "These libraries form the backbone of many data science projects, providing robust tools for data manipulation, analysis, visualization, and machine learning."
   ]
  },
  {
   "cell_type": "markdown",
   "id": "453f6d36",
   "metadata": {},
   "source": [
    "# Data Science Tools\n",
    "\n",
    "| Data Science Tools |\n",
    "|--------------------|\n",
    "| Jupyter Notebooks  |\n",
    "| RStudio            |\n",
    "| VS Code            |"
   ]
  },
  {
   "cell_type": "markdown",
   "id": "7859127e",
   "metadata": {},
   "source": [
    "### Examples of Evaluating Arithmetic Expressions in Python\n",
    "\n",
    "Below are a few examples of evaluating arithmetic expressions in Python. Explore the basic operations and syntax used for mathematical computations."
   ]
  },
  {
   "cell_type": "code",
   "execution_count": 1,
   "id": "0dcee7cd",
   "metadata": {},
   "outputs": [
    {
     "data": {
      "text/plain": [
       "17"
      ]
     },
     "execution_count": 1,
     "metadata": {},
     "output_type": "execute_result"
    }
   ],
   "source": [
    "# This is a simple arithmetic expression to multiply and then add integers.\n",
    "result = (3 * 4) + 5\n",
    "result"
   ]
  },
  {
   "cell_type": "code",
   "execution_count": 2,
   "id": "52cb784a",
   "metadata": {},
   "outputs": [
    {
     "data": {
      "text/plain": [
       "17"
      ]
     },
     "execution_count": 2,
     "metadata": {},
     "output_type": "execute_result"
    }
   ],
   "source": [
    "# This is a simple arithmetic expression to multiply and then add integers.\n",
    "result = (3 * 4) + 5\n",
    "result"
   ]
  },
  {
   "cell_type": "code",
   "execution_count": 3,
   "id": "3aa76647",
   "metadata": {},
   "outputs": [
    {
     "data": {
      "text/plain": [
       "3.3333333333333335"
      ]
     },
     "execution_count": 3,
     "metadata": {},
     "output_type": "execute_result"
    }
   ],
   "source": [
    "# This will convert 200 minutes to hours by dividing by 60.\n",
    "minutes = 200\n",
    "hours = minutes / 60\n",
    "hours"
   ]
  },
  {
   "cell_type": "markdown",
   "id": "68fc6570",
   "metadata": {},
   "source": [
    "## Author\n",
    "\n",
    "Christian Luz"
   ]
  },
  {
   "cell_type": "code",
   "execution_count": null,
   "id": "695bff4b",
   "metadata": {},
   "outputs": [],
   "source": []
  }
 ],
 "metadata": {
  "kernelspec": {
   "display_name": "Python 3 (ipykernel)",
   "language": "python",
   "name": "python3"
  },
  "language_info": {
   "codemirror_mode": {
    "name": "ipython",
    "version": 3
   },
   "file_extension": ".py",
   "mimetype": "text/x-python",
   "name": "python",
   "nbconvert_exporter": "python",
   "pygments_lexer": "ipython3",
   "version": "3.11.5"
  }
 },
 "nbformat": 4,
 "nbformat_minor": 5
}
